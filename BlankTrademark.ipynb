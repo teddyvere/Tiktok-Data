{
 "cells": [
  {
   "cell_type": "code",
   "execution_count": 6,
   "metadata": {},
   "outputs": [
    {
     "data": {
      "text/plain": [
       "'\\\\Users\\\\Teddy\\\\Documents\\\\GitHub\\\\Python\\\\business\\\\Tiktok-Data\\\\BlankTrademark.pdf'"
      ]
     },
     "execution_count": 6,
     "metadata": {},
     "output_type": "execute_result"
    }
   ],
   "source": [
    "from fpdf import FPDF\n",
    "\n",
    "# Create a PDF instance\n",
    "pdf = FPDF()\n",
    "pdf.set_auto_page_break(auto=True, margin=15)\n",
    "pdf.add_page()\n",
    "\n",
    "# Title\n",
    "pdf.set_font(\"Arial\", size=14, style=\"B\")\n",
    "pdf.cell(0, 10, \"United States Trademark Application\", ln=True, align=\"C\")\n",
    "pdf.ln(10)\n",
    "\n",
    "# Trademark Application Content\n",
    "pdf.set_font(\"Arial\", size=12)\n",
    "\n",
    "content = \"\"\"\n",
    "Applicant Information:\n",
    "-----------------------\n",
    "Business Name: JakkRabbit Supplements\n",
    "Classification: Class 5\n",
    "Description: Nutritional and dietary supplements\n",
    "\n",
    "Trademark Information:\n",
    "-----------------------\n",
    "Trademark Name: JakkRabbit\n",
    "Trademark Type: Wordmark\n",
    "\n",
    "Goods and Services Description:\n",
    "-------------------------------\n",
    "Class 5: Nutritional supplements, dietary supplements, herbal supplements, and wellness products.\n",
    "The trademark will be used in the marketing, packaging, and promotion of health and dietary supplement products.\n",
    "\n",
    "The trademark will be used in the marketing, packaging, and promotion of dietary supplements once the product is launched, with plans to sell on a variety of E-commerce platforms.\n",
    "\n",
    "Basis for Filing:\n",
    "-----------------\n",
    "\n",
    "Intent to Use: The trademark \"JakkRabbit\" is intended to be used in commerce in connection with dietary supplements, but the product is not yet being sold.\n",
    "\n",
    "\n",
    "Applicant Details:\n",
    "------------------\n",
    "Name of Applicant: [Your Full Name or Business Entity Name]\n",
    "Address: [Applicant's Address]\n",
    "City, State, ZIP: [City, State, ZIP Code]\n",
    "Phone: [Phone Number]\n",
    "Email: [Email Address]\n",
    "\n",
    "Declaration:\n",
    "------------\n",
    "The applicant hereby declares that all the information provided is true and accurate to the best of their knowledge.\n",
    "They affirm their intention to use the trademark \"JakkRabbit\" in commerce in association with the specified goods.\n",
    "\n",
    "Acknowledgment of Filing Fee: \n",
    "-----------------------------\n",
    "The applicant acknowledges that the filing fees for the trademark application, as required by the USPTO, will be paid online during the submission process.\n",
    "\n",
    "Signature:\n",
    "----------\n",
    "\n",
    "Date: _______________        Signature: _________________________\n",
    "\n",
    "Important Notes:\n",
    "- Ensure all required documentation, such as a specimen of use, is attached to the application.\n",
    "- Consult a trademark attorney or the United States Patent and Trademark Office (USPTO) for legal advice and procedural steps.\n",
    "\"\"\"\n",
    "\n",
    "pdf.multi_cell(0, 10, content)\n",
    "\n",
    "# Save the PDF\n",
    "file_path = r\"\\Users\\Teddy\\Documents\\GitHub\\Python\\business\\Tiktok-Data\\BlankTrademark.pdf\"\n",
    "pdf.output(file_path)\n",
    "\n",
    "file_path\n"
   ]
  }
 ],
 "metadata": {
  "kernelspec": {
   "display_name": "Python 3",
   "language": "python",
   "name": "python3"
  },
  "language_info": {
   "codemirror_mode": {
    "name": "ipython",
    "version": 3
   },
   "file_extension": ".py",
   "mimetype": "text/x-python",
   "name": "python",
   "nbconvert_exporter": "python",
   "pygments_lexer": "ipython3",
   "version": "3.12.6"
  }
 },
 "nbformat": 4,
 "nbformat_minor": 2
}
